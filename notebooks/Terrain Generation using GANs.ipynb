{
 "cells": [
  {
   "cell_type": "markdown",
   "metadata": {},
   "source": [
    "## Overview\n",
    "Objective\n",
    "\n",
    "Biome Generation  \n",
    "1: input a seed and output a valid biome map  \n",
    "2: given a biome map, generate a valid neighboring biome map  \n",
    "\n",
    "Terrain Generation  \n",
    "1: input noise, output biome chunk  \n",
    "2: input set of chunks, output set of neighboring chunks  "
   ]
  },
  {
   "cell_type": "code",
   "execution_count": 13,
   "metadata": {},
   "outputs": [],
   "source": [
    "import torch"
   ]
  },
  {
   "cell_type": "code",
   "execution_count": 82,
   "metadata": {},
   "outputs": [],
   "source": [
    "class BiomeMap:\n",
    "    def __init__(self, n, biomes, biome_rules):\n",
    "        self.n = n\n",
    "        self.n_biomes = len(biomes)\n",
    "        self.map = torch.zeros([len(biomes), n, n], dtype=torch.float32)\n",
    "        \n",
    "        self.biome_ilookup = { idx: b for idx,b, in enumerate(biomes) }\n",
    "        self.biome_nlookup = { b: idx for idx,b in self.biome_ilookup.items() }\n",
    "\n",
    "    def inbounds(self, x, y):\n",
    "        return x >= 0 and x < self.n and y >= 0 and y < self.n\n",
    "\n",
    "    # Tensor biome\n",
    "    def tbiome(self, x, y):\n",
    "        return self.map[:, x, y] if self.inbounds(x, y) else None\n",
    "    # Index biome\n",
    "    def ibiome(self, x, y):\n",
    "        idx, value = torch.max(self.tbiome(x, y), 0)\n",
    "        return int(idx)\n",
    "    # Name biome\n",
    "    def nbiome(self, x, y):\n",
    "        return self.biome_ilookup[self.ibiome(x, y)]\n",
    "\n",
    "    # Relative tensor biome\n",
    "    def r_tbiome(self, locx, locy, x, y):\n",
    "        return self.biome(locx + x, locy + y)\n",
    "    def r_ibiome(self, locx, locy, x, y):\n",
    "        return self.ibiome(locx + x, locy + y)\n",
    "    def r_nbiome(self, locx, locy, x, y):\n",
    "        return self.nbiome(locx + x, locy + y)\n",
    "\n",
    "    def s_ibiome(self, x, y, i):\n",
    "        self.map[:, x, y] = torch.zeros([self.n_biomes], dtype=torch.float32)\n",
    "        self.map[i, x, y] = 1.0\n",
    "    def s_nbiome(self, x, y, biome_name):\n",
    "        return self.s_ibiome(x, y, self.biome_nlookup[biome_name])\n",
    "\n",
    "    def __str__(self):\n",
    "        output = ''\n",
    "        for i in range(self.n):\n",
    "            for j in range(self.n):\n",
    "                output += self.nbiome(i, j)[0]   # append first letter of biome\n",
    "            output += '\\n'\n",
    "        return output\n",
    "    "
   ]
  },
  {
   "cell_type": "code",
   "execution_count": 176,
   "metadata": {},
   "outputs": [
    {
     "name": "stdout",
     "output_type": "stream",
     "text": [
      "ccccc\n",
      "ccccc\n",
      "ccccc\n",
      "ccccc\n",
      "ccccc\n",
      "\n"
     ]
    },
    {
     "data": {
      "text/plain": [
       "tensor([[[1., 1., 1., 1., 1.],\n",
       "         [1., 0., 0., 1., 1.],\n",
       "         [1., 1., 1., 1., 1.],\n",
       "         [1., 1., 1., 1., 1.],\n",
       "         [1., 1., 1., 1., 1.]],\n",
       "\n",
       "        [[0., 0., 0., 0., 0.],\n",
       "         [0., 1., 1., 0., 0.],\n",
       "         [0., 0., 0., 0., 0.],\n",
       "         [0., 0., 0., 0., 0.],\n",
       "         [0., 0., 0., 0., 0.]],\n",
       "\n",
       "        [[0., 0., 0., 0., 0.],\n",
       "         [0., 0., 0., 0., 0.],\n",
       "         [0., 0., 0., 0., 0.],\n",
       "         [0., 0., 0., 0., 0.],\n",
       "         [0., 0., 0., 0., 0.]]])"
      ]
     },
     "execution_count": 176,
     "metadata": {},
     "output_type": "execute_result"
    }
   ],
   "source": [
    "b = BiomeMap(n=5, biomes=['water', 'coast', 'land'], biome_rules=None)\n",
    "b.map[0, :, :] = 1\n",
    "b.s_nbiome(1, 1, 'coast')\n",
    "b.s_nbiome(1, 2, 'coast')\n",
    "print(b)\n",
    "b.map[:, :, :]"
   ]
  },
  {
   "cell_type": "code",
   "execution_count": 179,
   "metadata": {},
   "outputs": [],
   "source": [
    "# sum on dimension\n",
    "def neighbor_sum(x, y, n, bmap):\n",
    "    x0 = max(x-n, 0)\n",
    "    xn = min(x+n+1, bmap.n)\n",
    "    y0 = max(y-n, 0)\n",
    "    yn = min(y+n+1, bmap.n)\n",
    "    \n",
    "#     print(bmap.map[:, x0:xn, y0:yn])\n",
    "    \n",
    "    return torch.sum(bmap.map[:, x0:xn, y0:yn], (1,2))\n",
    "\n",
    "def coast_rule(x, y, bmap):\n",
    "    water_idx = bmap.biome_nlookup['water']\n",
    "    nsum = neighbor_sum(x, y, 1, bmap)\n",
    "    return bool(nsum[water_idx] > 1 and nsum[water_idx] < 8)"
   ]
  },
  {
   "cell_type": "code",
   "execution_count": 180,
   "metadata": {},
   "outputs": [
    {
     "name": "stdout",
     "output_type": "stream",
     "text": [
      "tensor([7., 2., 0.])\n",
      "--\n",
      "True\n"
     ]
    }
   ],
   "source": [
    "print(neighbor_sum(x=1, y=1, n=1, bmap=b))\n",
    "print('--')\n",
    "print(coast_rule(1, 1, b))"
   ]
  },
  {
   "cell_type": "code",
   "execution_count": null,
   "metadata": {},
   "outputs": [],
   "source": []
  },
  {
   "cell_type": "code",
   "execution_count": null,
   "metadata": {},
   "outputs": [],
   "source": []
  }
 ],
 "metadata": {
  "kernelspec": {
   "display_name": "Python 3",
   "language": "python",
   "name": "python3"
  },
  "language_info": {
   "codemirror_mode": {
    "name": "ipython",
    "version": 3
   },
   "file_extension": ".py",
   "mimetype": "text/x-python",
   "name": "python",
   "nbconvert_exporter": "python",
   "pygments_lexer": "ipython3",
   "version": "3.6.5"
  }
 },
 "nbformat": 4,
 "nbformat_minor": 2
}
